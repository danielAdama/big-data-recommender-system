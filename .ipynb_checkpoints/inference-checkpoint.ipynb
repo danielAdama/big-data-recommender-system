{
 "cells": [
  {
   "cell_type": "code",
   "execution_count": 1,
   "id": "3dcef0fd",
   "metadata": {},
   "outputs": [],
   "source": [
    "import pyspark\n",
    "import os\n",
    "import numpy\n",
    "from pyspark.sql import SparkSession\n",
    "import pyspark.sql.functions as sql_fun\n",
    "from pyspark.ml.recommendation import ALSModel"
   ]
  },
  {
   "cell_type": "code",
   "execution_count": 2,
   "id": "81728e01",
   "metadata": {},
   "outputs": [
    {
     "name": "stderr",
     "output_type": "stream",
     "text": [
      "22/06/12 17:07:55 WARN Utils: Your hostname, daniel-X555LJ resolves to a loopback address: 127.0.1.1; using 10.0.3.1 instead (on interface lxcbr0)\n",
      "22/06/12 17:07:55 WARN Utils: Set SPARK_LOCAL_IP if you need to bind to another address\n",
      "WARNING: An illegal reflective access operation has occurred\n",
      "WARNING: Illegal reflective access by org.apache.spark.unsafe.Platform (file:/usr/local/lib/python3.8/dist-packages/pyspark/jars/spark-unsafe_2.12-3.2.1.jar) to constructor java.nio.DirectByteBuffer(long,int)\n",
      "WARNING: Please consider reporting this to the maintainers of org.apache.spark.unsafe.Platform\n",
      "WARNING: Use --illegal-access=warn to enable warnings of further illegal reflective access operations\n",
      "WARNING: All illegal access operations will be denied in a future release\n",
      "Using Spark's default log4j profile: org/apache/spark/log4j-defaults.properties\n",
      "Setting default log level to \"WARN\".\n",
      "To adjust logging level use sc.setLogLevel(newLevel). For SparkR, use setLogLevel(newLevel).\n",
      "22/06/12 17:07:56 WARN NativeCodeLoader: Unable to load native-hadoop library for your platform... using builtin-java classes where applicable\n",
      "                                                                                \r"
     ]
    }
   ],
   "source": [
    "# Load the dataset\n",
    "DATAPATH = r'/home/daniel/Desktop/programming/pythondatascience/datascience/dataengineering/datasets/movieLens25m/'\n",
    "movies = os.path.join(DATAPATH, 'movies.csv')\n",
    "ratings = os.path.join(DATAPATH, 'ratings.csv')\n",
    "\n",
    "spark = SparkSession.builder.appName('recommend').getOrCreate()\n",
    "movies = spark.read.csv(movies, inferSchema = True, header = True)\n",
    "ratings = spark.read.csv(ratings, inferSchema = True, header = True)\n",
    "sc = spark.sparkContext\n",
    "\n",
    "# We will only work with 5 million records\n",
    "ratings = ratings.limit(5000000)\n",
    "\n",
    "# Load the movies and ratings dataset in memory to improve performance\n",
    "ratings=ratings.repartition(10).cache()\n",
    "movies=movies.repartition(10).cache()"
   ]
  },
  {
   "cell_type": "code",
   "execution_count": 26,
   "id": "5a54b0bd",
   "metadata": {},
   "outputs": [],
   "source": [
    "# Load the recommender model\n",
    "model = ALSModel.load(\"modelV1.model\")\n",
    "\n",
    "def recommendMovies(model, num_recommends, user):\n",
    "    rel_col = ['movieId', 'userId']\n",
    "    print(f\"Recommendations for UserId: {user}\")\n",
    "    # Create a Spark DataFrame with the specified user and all the movies listed in the ratings DataFrame\n",
    "    dataSet = ratings.select(\"movieId\").distinct().withColumn(\"userId\", sql_fun.lit(user))\n",
    "\n",
    "    # Create a Spark DataFrame with the movies that have already been rated by this user\n",
    "    moviesAlreadyRated = ratings.filter(ratings.userId==user).select(*rel_col)\n",
    "\n",
    "    # Apply the recommender system to the dataset without the already rated movies to predict the ratings\n",
    "    predictions = model.transform(dataSet.subtract(moviesAlreadyRated)).dropna()\\\n",
    "    .orderBy(\"prediction\", ascending=False).limit(num_recommends).select(\"movieId\", \"prediction\")\n",
    "\n",
    "    # Join with the movies DataFrame to get the movie titles and genres\n",
    "    recommendations = predictions.join(movies, predictions.movieId==movies.movieId)\\\n",
    "    .select(predictions.movieId, movies.title, movies.genres, predictions.prediction)\n",
    "\n",
    "    return recommendations.show(truncate=False)"
   ]
  },
  {
   "cell_type": "code",
   "execution_count": 27,
   "id": "6c11732f",
   "metadata": {},
   "outputs": [
    {
     "name": "stdout",
     "output_type": "stream",
     "text": [
      "Recommendations for UserId: 147\n"
     ]
    },
    {
     "name": "stderr",
     "output_type": "stream",
     "text": [
      "                                                                                \r"
     ]
    },
    {
     "name": "stdout",
     "output_type": "stream",
     "text": [
      "+-------+---------------------------------+---------------------------------+----------+\n",
      "|movieId|title                            |genres                           |prediction|\n",
      "+-------+---------------------------------+---------------------------------+----------+\n",
      "|161662 |Pufnstuf (1970)                  |Children|Comedy|Fantasy          |4.9076037 |\n",
      "|152711 |Who Killed Chea Vichea? (2010)   |Documentary                      |4.9389124 |\n",
      "|173651 |Rammstein: Live aus Berlin (1999)|(no genres listed)               |5.2215548 |\n",
      "|192261 |Don't Laugh at My Romance (2008) |Comedy|Drama                     |5.097601  |\n",
      "|139128 |Genius Party Beyond (2008)       |Animation                        |4.921399  |\n",
      "|127019 |Line of Sight (2012)             |Documentary                      |5.310632  |\n",
      "|176875 |Daniel, the Wizard (2004)        |Comedy|Crime|Drama|Fantasy|Horror|4.914569  |\n",
      "|166472 |Feyzo, the Polite One (1978)     |Comedy                           |5.26434   |\n",
      "|127256 |The Old Gun (1975)               |Drama|Thriller|War               |5.099715  |\n",
      "|128876 |Saban, Son of Saban (1977)       |Comedy|Crime|Mystery             |5.26434   |\n",
      "+-------+---------------------------------+---------------------------------+----------+\n",
      "\n"
     ]
    }
   ],
   "source": [
    "recommendMovies(model, num_recommends=10, user=147)"
   ]
  },
  {
   "cell_type": "code",
   "execution_count": 28,
   "id": "9366c20e",
   "metadata": {},
   "outputs": [
    {
     "name": "stdout",
     "output_type": "stream",
     "text": [
      "Recommendations for UserId: 22386\n"
     ]
    },
    {
     "name": "stderr",
     "output_type": "stream",
     "text": [
      "                                                                                \r"
     ]
    },
    {
     "name": "stdout",
     "output_type": "stream",
     "text": [
      "+-------+---------------------------------------+---------------------------------+----------+\n",
      "|movieId|title                                  |genres                           |prediction|\n",
      "+-------+---------------------------------------+---------------------------------+----------+\n",
      "|113045 |Boogie (Boogie, el aceitoso) (2009)    |Action|Animation|Crime           |4.5893526 |\n",
      "|127252 |The Veil of Twilight (2014)            |Crime|Fantasy|Mystery            |4.5574656 |\n",
      "|126086 |Norm MacDonald: Me Doing Standup (2011)|Comedy                           |4.462449  |\n",
      "|117352 |A Kind of America 2 (2008)             |Comedy                           |4.480094  |\n",
      "|179985 |Romeo Is Bleeding (2017)               |Documentary                      |4.8404074 |\n",
      "|132492 |Sinatra: All or Nothing at All (2015)  |Documentary                      |4.9653397 |\n",
      "|194332 |Muchas gracias de nada (1980)          |Comedy                           |4.4846635 |\n",
      "|88099  |Streets of Laredo (1995)               |Drama|Western                    |4.8566537 |\n",
      "|176875 |Daniel, the Wizard (2004)              |Comedy|Crime|Drama|Fantasy|Horror|4.472491  |\n",
      "|194334 |Les Luthiers: El Grosso Concerto (2001)|(no genres listed)               |4.4846635 |\n",
      "+-------+---------------------------------------+---------------------------------+----------+\n",
      "\n"
     ]
    }
   ],
   "source": [
    "recommendMovies(model, num_recommends=10, user=22386)"
   ]
  },
  {
   "cell_type": "code",
   "execution_count": 29,
   "id": "6250b1b8",
   "metadata": {},
   "outputs": [
    {
     "name": "stdout",
     "output_type": "stream",
     "text": [
      "Recommendations for UserId: 26130\n"
     ]
    },
    {
     "name": "stderr",
     "output_type": "stream",
     "text": [
      "                                                                                \r"
     ]
    },
    {
     "name": "stdout",
     "output_type": "stream",
     "text": [
      "+-------+-----------------------------------------------------------------+---------------------------------+----------+\n",
      "|movieId|title                                                            |genres                           |prediction|\n",
      "+-------+-----------------------------------------------------------------+---------------------------------+----------+\n",
      "|208112 |Rudolph the Red-Nosed Reindeer & the Island of Misfit Toys (2001)|Animation|Children               |5.1672997 |\n",
      "|113045 |Boogie (Boogie, el aceitoso) (2009)                              |Action|Animation|Crime           |5.4515486 |\n",
      "|127252 |The Veil of Twilight (2014)                                      |Crime|Fantasy|Mystery            |5.5586348 |\n",
      "|126086 |Norm MacDonald: Me Doing Standup (2011)                          |Comedy                           |5.1668897 |\n",
      "|117352 |A Kind of America 2 (2008)                                       |Comedy                           |5.181432  |\n",
      "|127019 |Line of Sight (2012)                                             |Documentary                      |5.318203  |\n",
      "|179985 |Romeo Is Bleeding (2017)                                         |Documentary                      |5.5609655 |\n",
      "|132492 |Sinatra: All or Nothing at All (2015)                            |Documentary                      |5.5726995 |\n",
      "|88099  |Streets of Laredo (1995)                                         |Drama|Western                    |5.419863  |\n",
      "|176875 |Daniel, the Wizard (2004)                                        |Comedy|Crime|Drama|Fantasy|Horror|5.221751  |\n",
      "+-------+-----------------------------------------------------------------+---------------------------------+----------+\n",
      "\n"
     ]
    }
   ],
   "source": [
    "recommendMovies(model, num_recommends=10, user=26130)"
   ]
  },
  {
   "cell_type": "code",
   "execution_count": null,
   "id": "0a49f2ac",
   "metadata": {},
   "outputs": [],
   "source": []
  },
  {
   "cell_type": "code",
   "execution_count": null,
   "id": "39b86fc4",
   "metadata": {},
   "outputs": [],
   "source": []
  },
  {
   "cell_type": "code",
   "execution_count": null,
   "id": "cbc60f30",
   "metadata": {},
   "outputs": [],
   "source": []
  }
 ],
 "metadata": {
  "kernelspec": {
   "display_name": "Python 3 (ipykernel)",
   "language": "python",
   "name": "python3"
  },
  "language_info": {
   "codemirror_mode": {
    "name": "ipython",
    "version": 3
   },
   "file_extension": ".py",
   "mimetype": "text/x-python",
   "name": "python",
   "nbconvert_exporter": "python",
   "pygments_lexer": "ipython3",
   "version": "3.8.10"
  }
 },
 "nbformat": 4,
 "nbformat_minor": 5
}
